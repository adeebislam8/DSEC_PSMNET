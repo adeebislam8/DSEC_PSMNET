{
  "nbformat": 4,
  "nbformat_minor": 0,
  "metadata": {
    "colab": {
      "name": "DSEC_PSMnet_Final_working.ipynb",
      "provenance": [],
      "collapsed_sections": [],
      "authorship_tag": "ABX9TyPJgNFc7EXx3Qeuc82BweDs",
      "include_colab_link": true
    },
    "kernelspec": {
      "name": "python3",
      "display_name": "Python 3"
    },
    "language_info": {
      "name": "python"
    },
    "accelerator": "GPU"
  },
  "cells": [
    {
      "cell_type": "markdown",
      "metadata": {
        "id": "view-in-github",
        "colab_type": "text"
      },
      "source": [
        "<a href=\"https://colab.research.google.com/github/adeebislam8/DSEC_PSMNET/blob/main/DSEC_PSMnet_Final_working.ipynb\" target=\"_parent\"><img src=\"https://colab.research.google.com/assets/colab-badge.svg\" alt=\"Open In Colab\"/></a>"
      ]
    },
    {
      "cell_type": "markdown",
      "metadata": {
        "id": "4UV087lyCTk5"
      },
      "source": [
        "# Setting up the training data"
      ]
    },
    {
      "cell_type": "code",
      "metadata": {
        "id": "RYJvBsIwyqcG"
      },
      "source": [
        "%mkdir -p data/train/interlaken_00_e/disparity/event\n",
        "%mkdir -p data/train/interlaken_00_e/events/{left,right}\n",
        "%cd /content/data/train/interlaken_00_e/disparity/\n",
        "!wget https://download.ifi.uzh.ch/rpg/DSEC/train/interlaken_00_e/interlaken_00_e_disparity_timestamps.txt\n",
        "%mv interlaken_00_e_disparity_timestamps.txt timestamps.txt\n",
        "%cd /content/data/train/interlaken_00_e/disparity/event\n",
        "!wget https://download.ifi.uzh.ch/rpg/DSEC/train/interlaken_00_e/interlaken_00_e_disparity_event.zip\n",
        "!unzip interlaken_00_e_disparity_event.zip \n",
        "%rm interlaken_00_e_disparity_event.zip\n",
        "%cd /content/data/train/interlaken_00_e/events/left\n",
        "! wget https://download.ifi.uzh.ch/rpg/DSEC/train/interlaken_00_e/interlaken_00_e_events_left.zip\n",
        "!unzip interlaken_00_e_events_left.zip\n",
        "%rm interlaken_00_e_events_left.zip\n",
        "%cd /content/data/train/interlaken_00_e/events/right/\n",
        "! wget https://download.ifi.uzh.ch/rpg/DSEC/train/interlaken_00_e/interlaken_00_e_events_right.zip\n",
        "!unzip interlaken_00_e_events_right.zip\n",
        "%rm interlaken_00_e_events_right.zip\n",
        "%mkdir /content/trained_model"
      ],
      "execution_count": null,
      "outputs": []
    },
    {
      "cell_type": "markdown",
      "metadata": {
        "id": "WUglBej4CktL"
      },
      "source": [
        "# Cloning the PSMnet network for DSEC dataset"
      ]
    },
    {
      "cell_type": "code",
      "metadata": {
        "id": "TkIIEa3IyjxJ"
      },
      "source": [
        "%cd /content\n",
        "!git clone https://github.com/adeebislam8/DSEC_PSMNET.git"
      ],
      "execution_count": null,
      "outputs": []
    },
    {
      "cell_type": "markdown",
      "metadata": {
        "id": "_-emJbjXCtPq"
      },
      "source": [
        "# Installing hdf5plugin for colab"
      ]
    },
    {
      "cell_type": "code",
      "metadata": {
        "id": "RPHtRHKm41vH"
      },
      "source": [
        "!pip install hdf5plugin"
      ],
      "execution_count": null,
      "outputs": []
    },
    {
      "cell_type": "markdown",
      "metadata": {
        "id": "XAvDlLG3C5Yx"
      },
      "source": [
        "# Running the code\n",
        "--model is the psmnet model used [basic/stackhourglass]  \n",
        "\n",
        "--datapath [datapath of training dataset]  \n",
        "\n",
        "--savemodel [location to save trained_model]  \n",
        "\n",
        "--loadmodel is used to finetune a pretrained model [location of pretrained model]"
      ]
    },
    {
      "cell_type": "code",
      "metadata": {
        "id": "_T07Dnwt5WY4"
      },
      "source": [
        "!python /content/DSEC_PSMNET/main.py --model basic --datapath /content/data --savemodel /content/trained_model"
      ],
      "execution_count": null,
      "outputs": []
    },
    {
      "cell_type": "markdown",
      "metadata": {
        "id": "WflbFLff6qdR"
      },
      "source": [
        "# Testing model\n",
        "--view gt, pred"
      ]
    }
  ]
}