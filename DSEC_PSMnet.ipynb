{
  "nbformat": 4,
  "nbformat_minor": 0,
  "metadata": {
    "colab": {
      "name": "DSEC_PSMnet.ipynb",
      "provenance": [],
      "authorship_tag": "ABX9TyOspNTUIHPUmb8VtJWmvTEQ",
      "include_colab_link": true
    },
    "kernelspec": {
      "name": "python3",
      "display_name": "Python 3"
    },
    "language_info": {
      "name": "python"
    }
  },
  "cells": [
    {
      "cell_type": "markdown",
      "metadata": {
        "id": "view-in-github",
        "colab_type": "text"
      },
      "source": [
        "<a href=\"https://colab.research.google.com/github/adeebislam8/DSEC_PSMNET/blob/main/DSEC_PSMnet.ipynb\" target=\"_parent\"><img src=\"https://colab.research.google.com/assets/colab-badge.svg\" alt=\"Open In Colab\"/></a>"
      ]
    },
    {
      "cell_type": "markdown",
      "metadata": {
        "id": "yIbjL_ME28cZ"
      },
      "source": [
        "Downloading the dsec dataset"
      ]
    },
    {
      "cell_type": "code",
      "metadata": {
        "colab": {
          "base_uri": "https://localhost:8080/"
        },
        "id": "GluJ-ZYs25Bq",
        "outputId": "1738a801-26fe-4875-c0c0-a0e7ddc8554f"
      },
      "source": [
        "! wget https://download.ifi.uzh.ch/rpg/DSEC/train/interlaken_00_c/interlaken_00_c_events_left.zip\n",
        "!"
      ],
      "execution_count": 1,
      "outputs": [
        {
          "output_type": "stream",
          "text": [
            "--2021-08-01 22:37:50--  https://download.ifi.uzh.ch/rpg/DSEC/train/interlaken_00_c/interlaken_00_c_events_left.zip\n",
            "Resolving download.ifi.uzh.ch (download.ifi.uzh.ch)... 130.60.61.200\n",
            "Connecting to download.ifi.uzh.ch (download.ifi.uzh.ch)|130.60.61.200|:443... connected.\n",
            "HTTP request sent, awaiting response... 200 OK\n",
            "Length: 856188898 (817M) [application/zip]\n",
            "Saving to: ‘interlaken_00_c_events_left.zip’\n",
            "\n",
            "interlaken_00_c_eve 100%[===================>] 816.52M  9.78MB/s    in 94s     \n",
            "\n",
            "2021-08-01 22:39:24 (8.71 MB/s) - ‘interlaken_00_c_events_left.zip’ saved [856188898/856188898]\n",
            "\n"
          ],
          "name": "stdout"
        }
      ]
    },
    {
      "cell_type": "code",
      "metadata": {
        "colab": {
          "base_uri": "https://localhost:8080/"
        },
        "id": "PGoSeZlz4Ymi",
        "outputId": "2e192895-e78c-4ba8-d473-7ca787891766"
      },
      "source": [
        "! wget https://download.ifi.uzh.ch/rpg/DSEC/train/interlaken_00_c/interlaken_00_c_disparity_timestamps.txt\n",
        "! wget https://download.ifi.uzh.ch/rpg/DSEC/train/interlaken_00_c/interlaken_00_c_events_left.zip\n",
        "! wget https://download.ifi.uzh.ch/rpg/DSEC/train/interlaken_00_c/interlaken_00_c_events_right.zip\n",
        "! wget https://download.ifi.uzh.ch/rpg/DSEC/train/interlaken_00_d/interlaken_00_d_disparity_event.zip\n",
        "! wget https://download.ifi.uzh.ch/rpg/DSEC/train/interlaken_00_d/interlaken_00_d_disparity_timestamps.txt\n",
        "! wget https://download.ifi.uzh.ch/rpg/DSEC/train/interlaken_00_d/interlaken_00_d_events_left.zip\n",
        "! wget https://download.ifi.uzh.ch/rpg/DSEC/train/interlaken_00_d/interlaken_00_d_events_right.zip\n",
        "! wget https://download.ifi.uzh.ch/rpg/DSEC/train/interlaken_00_e/interlaken_00_e_disparity_event.zip\n",
        "! wget https://download.ifi.uzh.ch/rpg/DSEC/train/interlaken_00_e/interlaken_00_e_disparity_timestamps.txt\n",
        "! wget https://download.ifi.uzh.ch/rpg/DSEC/train/interlaken_00_e/interlaken_00_e_events_left.zip\n",
        "! wget https://download.ifi.uzh.ch/rpg/DSEC/train/interlaken_00_e/interlaken_00_e_events_right.zip\n"
      ],
      "execution_count": 6,
      "outputs": [
        {
          "output_type": "stream",
          "text": [
            "--2021-08-01 22:50:12--  https://download.ifi.uzh.ch/rpg/DSEC/train/interlaken_00_c/interlaken_00_c_disparity_timestamps.txt\n",
            "Resolving download.ifi.uzh.ch (download.ifi.uzh.ch)... 130.60.61.200\n",
            "Connecting to download.ifi.uzh.ch (download.ifi.uzh.ch)|130.60.61.200|:443... connected.\n",
            "HTTP request sent, awaiting response... 200 OK\n",
            "Length: 3228 (3.2K) [text/plain]\n",
            "Saving to: ‘interlaken_00_c_disparity_timestamps.txt’\n",
            "\n",
            "\r          interlake   0%[                    ]       0  --.-KB/s               \rinterlaken_00_c_dis 100%[===================>]   3.15K  --.-KB/s    in 0s      \n",
            "\n",
            "2021-08-01 22:50:12 (111 MB/s) - ‘interlaken_00_c_disparity_timestamps.txt’ saved [3228/3228]\n",
            "\n",
            "--2021-08-01 22:50:12--  https://download.ifi.uzh.ch/rpg/DSEC/train/interlaken_00_c/interlaken_00_c_events_left.zip\n",
            "Resolving download.ifi.uzh.ch (download.ifi.uzh.ch)... 130.60.61.200\n",
            "Connecting to download.ifi.uzh.ch (download.ifi.uzh.ch)|130.60.61.200|:443... connected.\n",
            "HTTP request sent, awaiting response... 200 OK\n",
            "Length: 856188898 (817M) [application/zip]\n",
            "Saving to: ‘interlaken_00_c_events_left.zip.1’\n",
            "\n",
            "interlaken_00_c_eve 100%[===================>] 816.52M  10.8MB/s    in 81s     \n",
            "\n",
            "2021-08-01 22:51:33 (10.1 MB/s) - ‘interlaken_00_c_events_left.zip.1’ saved [856188898/856188898]\n",
            "\n",
            "--2021-08-01 22:51:33--  https://download.ifi.uzh.ch/rpg/DSEC/train/interlaken_00_c/interlaken_00_c_events_right.zip\n",
            "Resolving download.ifi.uzh.ch (download.ifi.uzh.ch)... 130.60.61.200\n",
            "Connecting to download.ifi.uzh.ch (download.ifi.uzh.ch)|130.60.61.200|:443... connected.\n",
            "HTTP request sent, awaiting response... 200 OK\n",
            "Length: 806569177 (769M) [application/zip]\n",
            "Saving to: ‘interlaken_00_c_events_right.zip’\n",
            "\n",
            "interlaken_00_c_eve 100%[===================>] 769.20M  10.1MB/s    in 76s     \n",
            "\n",
            "2021-08-01 22:52:49 (10.1 MB/s) - ‘interlaken_00_c_events_right.zip’ saved [806569177/806569177]\n",
            "\n",
            "--2021-08-01 22:52:49--  https://download.ifi.uzh.ch/rpg/DSEC/train/interlaken_00_d/interlaken_00_d_disparity_event.zip\n",
            "Resolving download.ifi.uzh.ch (download.ifi.uzh.ch)... 130.60.61.200\n",
            "Connecting to download.ifi.uzh.ch (download.ifi.uzh.ch)|130.60.61.200|:443... connected.\n",
            "HTTP request sent, awaiting response... 200 OK\n",
            "Length: 152074214 (145M) [application/zip]\n",
            "Saving to: ‘interlaken_00_d_disparity_event.zip’\n",
            "\n",
            "interlaken_00_d_dis 100%[===================>] 145.03M  9.89MB/s    in 14s     \n",
            "\n",
            "2021-08-01 22:53:03 (10.3 MB/s) - ‘interlaken_00_d_disparity_event.zip’ saved [152074214/152074214]\n",
            "\n",
            "--2021-08-01 22:53:03--  https://download.ifi.uzh.ch/rpg/DSEC/train/interlaken_00_d/interlaken_00_d_disparity_timestamps.txt\n",
            "Resolving download.ifi.uzh.ch (download.ifi.uzh.ch)... 130.60.61.200\n",
            "Connecting to download.ifi.uzh.ch (download.ifi.uzh.ch)|130.60.61.200|:443... connected.\n",
            "HTTP request sent, awaiting response... 200 OK\n",
            "Length: 11952 (12K) [text/plain]\n",
            "Saving to: ‘interlaken_00_d_disparity_timestamps.txt’\n",
            "\n",
            "interlaken_00_d_dis 100%[===================>]  11.67K  --.-KB/s    in 0s      \n",
            "\n",
            "2021-08-01 22:53:03 (143 MB/s) - ‘interlaken_00_d_disparity_timestamps.txt’ saved [11952/11952]\n",
            "\n",
            "--2021-08-01 22:53:03--  https://download.ifi.uzh.ch/rpg/DSEC/train/interlaken_00_d/interlaken_00_d_events_left.zip\n",
            "Resolving download.ifi.uzh.ch (download.ifi.uzh.ch)... 130.60.61.200\n",
            "Connecting to download.ifi.uzh.ch (download.ifi.uzh.ch)|130.60.61.200|:443... connected.\n",
            "HTTP request sent, awaiting response... 200 OK\n",
            "Length: 3345450337 (3.1G) [application/zip]\n",
            "Saving to: ‘interlaken_00_d_events_left.zip’\n",
            "\n",
            "interlaken_00_d_eve 100%[===================>]   3.12G  10.2MB/s    in 5m 38s  \n",
            "\n",
            "2021-08-01 22:58:42 (9.43 MB/s) - ‘interlaken_00_d_events_left.zip’ saved [3345450337/3345450337]\n",
            "\n",
            "--2021-08-01 22:58:42--  https://download.ifi.uzh.ch/rpg/DSEC/train/interlaken_00_d/interlaken_00_d_events_right.zip\n",
            "Resolving download.ifi.uzh.ch (download.ifi.uzh.ch)... 130.60.61.200\n",
            "Connecting to download.ifi.uzh.ch (download.ifi.uzh.ch)|130.60.61.200|:443... connected.\n",
            "HTTP request sent, awaiting response... 200 OK\n",
            "Length: 3177352545 (3.0G) [application/zip]\n",
            "Saving to: ‘interlaken_00_d_events_right.zip’\n",
            "\n",
            "interlaken_00_d_eve 100%[===================>]   2.96G  10.8MB/s    in 5m 1s   \n",
            "\n",
            "2021-08-01 23:03:43 (10.1 MB/s) - ‘interlaken_00_d_events_right.zip’ saved [3177352545/3177352545]\n",
            "\n",
            "--2021-08-01 23:03:43--  https://download.ifi.uzh.ch/rpg/DSEC/train/interlaken_00_e/interlaken_00_e_disparity_event.zip\n",
            "Resolving download.ifi.uzh.ch (download.ifi.uzh.ch)... 130.60.61.200\n",
            "Connecting to download.ifi.uzh.ch (download.ifi.uzh.ch)|130.60.61.200|:443... connected.\n",
            "HTTP request sent, awaiting response... 200 OK\n",
            "Length: 127652126 (122M) [application/zip]\n",
            "Saving to: ‘interlaken_00_e_disparity_event.zip’\n",
            "\n",
            "interlaken_00_e_dis 100%[===================>] 121.74M  10.8MB/s    in 12s     \n",
            "\n",
            "2021-08-01 23:03:55 (10.3 MB/s) - ‘interlaken_00_e_disparity_event.zip’ saved [127652126/127652126]\n",
            "\n",
            "--2021-08-01 23:03:55--  https://download.ifi.uzh.ch/rpg/DSEC/train/interlaken_00_e/interlaken_00_e_disparity_timestamps.txt\n",
            "Resolving download.ifi.uzh.ch (download.ifi.uzh.ch)... 130.60.61.200\n",
            "Connecting to download.ifi.uzh.ch (download.ifi.uzh.ch)|130.60.61.200|:443... connected.\n",
            "HTTP request sent, awaiting response... 200 OK\n",
            "Length: 11952 (12K) [text/plain]\n",
            "Saving to: ‘interlaken_00_e_disparity_timestamps.txt’\n",
            "\n",
            "interlaken_00_e_dis 100%[===================>]  11.67K  --.-KB/s    in 0s      \n",
            "\n",
            "2021-08-01 23:03:55 (172 MB/s) - ‘interlaken_00_e_disparity_timestamps.txt’ saved [11952/11952]\n",
            "\n",
            "--2021-08-01 23:03:55--  https://download.ifi.uzh.ch/rpg/DSEC/train/interlaken_00_e/interlaken_00_e_events_left.zip\n",
            "Resolving download.ifi.uzh.ch (download.ifi.uzh.ch)... 130.60.61.200\n",
            "Connecting to download.ifi.uzh.ch (download.ifi.uzh.ch)|130.60.61.200|:443... connected.\n",
            "HTTP request sent, awaiting response... 200 OK\n",
            "Length: 2544685597 (2.4G) [application/zip]\n",
            "Saving to: ‘interlaken_00_e_events_left.zip’\n",
            "\n",
            "interlaken_00_e_eve 100%[===================>]   2.37G  9.84MB/s    in 4m 33s  \n",
            "\n",
            "2021-08-01 23:08:29 (8.88 MB/s) - ‘interlaken_00_e_events_left.zip’ saved [2544685597/2544685597]\n",
            "\n",
            "--2021-08-01 23:08:29--  https://download.ifi.uzh.ch/rpg/DSEC/train/interlaken_00_e/interlaken_00_e_events_right.zip\n",
            "Resolving download.ifi.uzh.ch (download.ifi.uzh.ch)... 130.60.61.200\n",
            "Connecting to download.ifi.uzh.ch (download.ifi.uzh.ch)|130.60.61.200|:443... connected.\n",
            "HTTP request sent, awaiting response... 200 OK\n",
            "Length: 2520265760 (2.3G) [application/zip]\n",
            "Saving to: ‘interlaken_00_e_events_right.zip’\n",
            "\n",
            "interlaken_00_e_eve 100%[===================>]   2.35G  10.3MB/s    in 4m 34s  \n",
            "\n",
            "2021-08-01 23:13:02 (8.79 MB/s) - ‘interlaken_00_e_events_right.zip’ saved [2520265760/2520265760]\n",
            "\n"
          ],
          "name": "stdout"
        }
      ]
    },
    {
      "cell_type": "code",
      "metadata": {
        "colab": {
          "base_uri": "https://localhost:8080/"
        },
        "id": "Su3Z778_8beg",
        "outputId": "e0101654-4fbd-4aa5-a409-5f57db12fff3"
      },
      "source": [
        "! wget https://download.ifi.uzh.ch/rpg/DSEC/train/interlaken_00_f/interlaken_00_f_disparity_event.zip\n",
        "! wget https://download.ifi.uzh.ch/rpg/DSEC/train/interlaken_00_f/interlaken_00_f_disparity_timestamps.txt\n",
        "! wget https://download.ifi.uzh.ch/rpg/DSEC/train/interlaken_00_f/interlaken_00_f_events_left.zip\n",
        "! wget https://download.ifi.uzh.ch/rpg/DSEC/train/interlaken_00_f/interlaken_00_f_events_right.zip\n",
        "! wget https://download.ifi.uzh.ch/rpg/DSEC/train/interlaken_00_g/interlaken_00_g_disparity_event.zip\n",
        "! wget https://download.ifi.uzh.ch/rpg/DSEC/train/interlaken_00_g/interlaken_00_g_disparity_timestamps.txt\n",
        "! wget https://download.ifi.uzh.ch/rpg/DSEC/train/interlaken_00_g/interlaken_00_g_events_left.zip\n",
        "! wget https://download.ifi.uzh.ch/rpg/DSEC/train/interlaken_00_g/interlaken_00_g_events_right.zip"
      ],
      "execution_count": 7,
      "outputs": [
        {
          "output_type": "stream",
          "text": [
            "--2021-08-01 23:13:05--  https://download.ifi.uzh.ch/rpg/DSEC/train/interlaken_00_f/interlaken_00_f_disparity_event.zip\n",
            "Resolving download.ifi.uzh.ch (download.ifi.uzh.ch)... 130.60.61.200\n",
            "Connecting to download.ifi.uzh.ch (download.ifi.uzh.ch)|130.60.61.200|:443... connected.\n",
            "HTTP request sent, awaiting response... 200 OK\n",
            "Length: 78684528 (75M) [application/zip]\n",
            "Saving to: ‘interlaken_00_f_disparity_event.zip’\n",
            "\n",
            "interlaken_00_f_dis 100%[===================>]  75.04M  10.4MB/s    in 7.5s    \n",
            "\n",
            "2021-08-01 23:13:13 (10.1 MB/s) - ‘interlaken_00_f_disparity_event.zip’ saved [78684528/78684528]\n",
            "\n",
            "--2021-08-01 23:13:13--  https://download.ifi.uzh.ch/rpg/DSEC/train/interlaken_00_f/interlaken_00_f_disparity_timestamps.txt\n",
            "Resolving download.ifi.uzh.ch (download.ifi.uzh.ch)... 130.60.61.200\n",
            "Connecting to download.ifi.uzh.ch (download.ifi.uzh.ch)|130.60.61.200|:443... connected.\n",
            "HTTP request sent, awaiting response... 200 OK\n",
            "Length: 8952 (8.7K) [text/plain]\n",
            "Saving to: ‘interlaken_00_f_disparity_timestamps.txt’\n",
            "\n",
            "interlaken_00_f_dis 100%[===================>]   8.74K  --.-KB/s    in 0s      \n",
            "\n",
            "2021-08-01 23:13:13 (104 MB/s) - ‘interlaken_00_f_disparity_timestamps.txt’ saved [8952/8952]\n",
            "\n",
            "--2021-08-01 23:13:13--  https://download.ifi.uzh.ch/rpg/DSEC/train/interlaken_00_f/interlaken_00_f_events_left.zip\n",
            "Resolving download.ifi.uzh.ch (download.ifi.uzh.ch)... 130.60.61.200\n",
            "Connecting to download.ifi.uzh.ch (download.ifi.uzh.ch)|130.60.61.200|:443... connected.\n",
            "HTTP request sent, awaiting response... 200 OK\n",
            "Length: 1277216486 (1.2G) [application/zip]\n",
            "Saving to: ‘interlaken_00_f_events_left.zip’\n",
            "\n",
            "interlaken_00_f_eve 100%[===================>]   1.19G  10.3MB/s    in 2m 1s   \n",
            "\n",
            "2021-08-01 23:15:14 (10.1 MB/s) - ‘interlaken_00_f_events_left.zip’ saved [1277216486/1277216486]\n",
            "\n",
            "--2021-08-01 23:15:14--  https://download.ifi.uzh.ch/rpg/DSEC/train/interlaken_00_f/interlaken_00_f_events_right.zip\n",
            "Resolving download.ifi.uzh.ch (download.ifi.uzh.ch)... 130.60.61.200\n",
            "Connecting to download.ifi.uzh.ch (download.ifi.uzh.ch)|130.60.61.200|:443... connected.\n",
            "HTTP request sent, awaiting response... 200 OK\n",
            "Length: 1272149377 (1.2G) [application/zip]\n",
            "Saving to: ‘interlaken_00_f_events_right.zip’\n",
            "\n",
            "interlaken_00_f_eve 100%[===================>]   1.18G  9.45MB/s    in 2m 1s   \n",
            "\n",
            "2021-08-01 23:17:15 (10.0 MB/s) - ‘interlaken_00_f_events_right.zip’ saved [1272149377/1272149377]\n",
            "\n",
            "--2021-08-01 23:17:15--  https://download.ifi.uzh.ch/rpg/DSEC/train/interlaken_00_g/interlaken_00_g_disparity_event.zip\n",
            "Resolving download.ifi.uzh.ch (download.ifi.uzh.ch)... 130.60.61.200\n",
            "Connecting to download.ifi.uzh.ch (download.ifi.uzh.ch)|130.60.61.200|:443... connected.\n",
            "HTTP request sent, awaiting response... 200 OK\n",
            "Length: 91240240 (87M) [application/zip]\n",
            "Saving to: ‘interlaken_00_g_disparity_event.zip’\n",
            "\n",
            "interlaken_00_g_dis 100%[===================>]  87.01M  8.49MB/s    in 9.9s    \n",
            "\n",
            "2021-08-01 23:17:26 (8.82 MB/s) - ‘interlaken_00_g_disparity_event.zip’ saved [91240240/91240240]\n",
            "\n",
            "--2021-08-01 23:17:26--  https://download.ifi.uzh.ch/rpg/DSEC/train/interlaken_00_g/interlaken_00_g_disparity_timestamps.txt\n",
            "Resolving download.ifi.uzh.ch (download.ifi.uzh.ch)... 130.60.61.200\n",
            "Connecting to download.ifi.uzh.ch (download.ifi.uzh.ch)|130.60.61.200|:443... connected.\n",
            "HTTP request sent, awaiting response... 200 OK\n",
            "Length: 8016 (7.8K) [text/plain]\n",
            "Saving to: ‘interlaken_00_g_disparity_timestamps.txt’\n",
            "\n",
            "interlaken_00_g_dis 100%[===================>]   7.83K  --.-KB/s    in 0s      \n",
            "\n",
            "2021-08-01 23:17:26 (150 MB/s) - ‘interlaken_00_g_disparity_timestamps.txt’ saved [8016/8016]\n",
            "\n",
            "--2021-08-01 23:17:26--  https://download.ifi.uzh.ch/rpg/DSEC/train/interlaken_00_g/interlaken_00_g_events_left.zip\n",
            "Resolving download.ifi.uzh.ch (download.ifi.uzh.ch)... 130.60.61.200\n",
            "Connecting to download.ifi.uzh.ch (download.ifi.uzh.ch)|130.60.61.200|:443... connected.\n",
            "HTTP request sent, awaiting response... 200 OK\n",
            "Length: 1340861760 (1.2G) [application/zip]\n",
            "Saving to: ‘interlaken_00_g_events_left.zip’\n",
            "\n",
            "interlaken_00_g_eve 100%[===================>]   1.25G  9.89MB/s    in 2m 8s   \n",
            "\n",
            "2021-08-01 23:19:34 (9.97 MB/s) - ‘interlaken_00_g_events_left.zip’ saved [1340861760/1340861760]\n",
            "\n",
            "--2021-08-01 23:19:34--  https://download.ifi.uzh.ch/rpg/DSEC/train/interlaken_00_g/interlaken_00_g_events_right.zip\n",
            "Resolving download.ifi.uzh.ch (download.ifi.uzh.ch)... 130.60.61.200\n",
            "Connecting to download.ifi.uzh.ch (download.ifi.uzh.ch)|130.60.61.200|:443... connected.\n",
            "HTTP request sent, awaiting response... 200 OK\n",
            "Length: 1264329533 (1.2G) [application/zip]\n",
            "Saving to: ‘interlaken_00_g_events_right.zip’\n",
            "\n",
            "interlaken_00_g_eve 100%[===================>]   1.18G  9.77MB/s    in 2m 1s   \n",
            "\n",
            "2021-08-01 23:21:36 (9.95 MB/s) - ‘interlaken_00_g_events_right.zip’ saved [1264329533/1264329533]\n",
            "\n"
          ],
          "name": "stdout"
        }
      ]
    },
    {
      "cell_type": "code",
      "metadata": {
        "id": "NleEJHp78x19"
      },
      "source": [
        ""
      ],
      "execution_count": null,
      "outputs": []
    }
  ]
}